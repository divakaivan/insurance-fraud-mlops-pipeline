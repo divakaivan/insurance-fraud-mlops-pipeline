{
 "cells": [
  {
   "cell_type": "code",
   "execution_count": 1,
   "metadata": {},
   "outputs": [],
   "source": [
    "import pandas as pd\n",
    "from sklearn.model_selection import train_test_split\n",
    "\n",
    "import pickle\n",
    "\n",
    "from evidently.report import Report\n",
    "from evidently.metric_preset import DataQualityPreset, DataDriftPreset, ClassificationPreset, TargetDriftPreset"
   ]
  },
  {
   "cell_type": "code",
   "execution_count": 20,
   "metadata": {},
   "outputs": [],
   "source": [
    "import os\n",
    "from sqlalchemy import create_engine\n",
    "\n",
    "db_params = {\n",
    "    'host': os.getenv('db_host'),\n",
    "    'port': os.getenv('db_port'), \n",
    "    'database': os.getenv('db_name'),\n",
    "    'user': os.getenv('db_username'),\n",
    "    'password': os.getenv('db_password')\n",
    "}\n",
    "\n",
    "engine = create_engine(f'postgresql+psycopg2://{db_params[\"user\"]}:{db_params[\"password\"]}@{db_params[\"host\"]}:{db_params[\"port\"]}/{db_params[\"database\"]}')\n",
    "\n",
    "ready_df = pd.read_sql_query('SELECT * FROM model_data_w_dummy', engine)\n",
    "meaningful_df = pd.read_sql_query('SELECT * FROM meaningful_features', engine)\n",
    "\n",
    "engine.dispose()\n",
    "reference_data, current_data = train_test_split(ready_df, test_size=0.2, random_state=42)"
   ]
  },
  {
   "cell_type": "code",
   "execution_count": 21,
   "metadata": {},
   "outputs": [],
   "source": [
    "with open('../model/balanced_rf_model/model.pkl', 'rb') as f:\n",
    "    model = pickle.load(f)\n",
    "\n",
    "reference_data['prediction'] = model.predict(reference_data.drop(columns=['FraudFound_P']))\n",
    "current_data['prediction'] = model.predict(current_data.drop(columns=['FraudFound_P']))"
   ]
  },
  {
   "cell_type": "code",
   "execution_count": 22,
   "metadata": {},
   "outputs": [],
   "source": [
    "meaningful_reference_data, meaningful_current_data = train_test_split(meaningful_df, test_size=0.2, random_state=42)\n",
    "\n",
    "meaningful_reference_data['prediction'] = reference_data['prediction']\n",
    "meaningful_current_data['prediction'] = current_data['prediction']\n",
    "\n",
    "meaningful_reference_data.rename(columns={'FraudFound_P': 'target'}, inplace=True)\n",
    "meaningful_current_data.rename(columns={'FraudFound_P': 'target'}, inplace=True)"
   ]
  },
  {
   "cell_type": "markdown",
   "metadata": {},
   "source": [
    "## Evidently tests"
   ]
  },
  {
   "cell_type": "code",
   "execution_count": 31,
   "metadata": {},
   "outputs": [],
   "source": [
    "from evidently.test_suite import TestSuite\n",
    "from evidently.test_preset import NoTargetPerformanceTestPreset\n",
    "from evidently.test_preset import DataQualityTestPreset\n",
    "from evidently.test_preset import DataStabilityTestPreset\n",
    "from evidently.test_preset import DataDriftTestPreset\n",
    "from evidently.test_preset import BinaryClassificationTestPreset\n",
    "\n",
    "data_stability = TestSuite(tests=[\n",
    "    DataStabilityTestPreset(),\n",
    "    NoTargetPerformanceTestPreset(),\n",
    "    DataQualityTestPreset(),\n",
    "    DataDriftTestPreset(),\n",
    "    BinaryClassificationTestPreset(),\n",
    "])\n",
    "\n",
    "data_stability.run(reference_data=meaningful_reference_data, current_data=meaningful_current_data)\n",
    "\n",
    "data_stability.save_html('data_stability.html')"
   ]
  },
  {
   "cell_type": "code",
   "execution_count": 27,
   "metadata": {},
   "outputs": [],
   "source": [
    "target_column = 'FraudFound_P'\n",
    "\n",
    "report = Report(metrics=[\n",
    "    DataQualityPreset(),\n",
    "    DataDriftPreset(),\n",
    "    ClassificationPreset(),\n",
    "    TargetDriftPreset()\n",
    "])\n",
    "\n",
    "report.run(reference_data=meaningful_reference_data, current_data=meaningful_current_data)\n",
    "\n",
    "report.save_html('evidently_dashboard.html')"
   ]
  },
  {
   "cell_type": "code",
   "execution_count": null,
   "metadata": {},
   "outputs": [],
   "source": []
  }
 ],
 "metadata": {
  "kernelspec": {
   "display_name": "base",
   "language": "python",
   "name": "python3"
  },
  "language_info": {
   "codemirror_mode": {
    "name": "ipython",
    "version": 3
   },
   "file_extension": ".py",
   "mimetype": "text/x-python",
   "name": "python",
   "nbconvert_exporter": "python",
   "pygments_lexer": "ipython3",
   "version": "3.11.9"
  }
 },
 "nbformat": 4,
 "nbformat_minor": 2
}
